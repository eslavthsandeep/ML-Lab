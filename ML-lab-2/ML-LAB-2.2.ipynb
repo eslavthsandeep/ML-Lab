{
 "cells": [
  {
   "cell_type": "code",
   "execution_count": 4,
   "id": "05efbb6a-4a3a-4b19-a23a-e3b330fdc552",
   "metadata": {},
   "outputs": [],
   "source": [
    "import pandas as pd\n",
    "import numpy as np"
   ]
  },
  {
   "cell_type": "code",
   "execution_count": 6,
   "id": "511abba2-301a-4bc0-9c39-41cf84863187",
   "metadata": {},
   "outputs": [],
   "source": [
    "df = pd.read_csv(r\"C:\\Users\\LENOVO\\Downloads\\lab-2.data.csv\")"
   ]
  },
  {
   "cell_type": "code",
   "execution_count": 8,
   "id": "d79f1d89-71c4-4b3b-a505-c3d9766b1923",
   "metadata": {},
   "outputs": [],
   "source": [
    "df.columns = df.columns.str.strip()"
   ]
  },
  {
   "cell_type": "code",
   "execution_count": 10,
   "id": "8b8b14d7-04b7-40ff-8b2a-dabc47ffcec5",
   "metadata": {},
   "outputs": [
    {
     "name": "stdout",
     "output_type": "stream",
     "text": [
      "Initial DataFrame head:\n",
      "  UPDA Unnamed: 1    ENTRY_D EVENT_LCL_DA Unnamed: 4 Unnamed: 5 EVENT_LCL_TI  \\\n",
      "0   No        TED  19-Feb-16          ATE         TE  19-Feb-16           ME   \n",
      "1   No  19-Feb-16        NaN          NaN  18-Feb-16        NaN    23:55:00Z   \n",
      "2   No  19-Feb-16        NaN          NaN  18-Feb-16        NaN    22:14:00Z   \n",
      "3   No  19-Feb-16        NaN          NaN  18-Feb-16        NaN    17:10:00Z   \n",
      "4   No  19-Feb-16        NaN          NaN  18-Feb-16        NaN    00:26:00Z   \n",
      "\n",
      "  LOC_CITY_NAME  Unnamed: 8    LOC_STATE_NA  ... CBN_CRW_INJ_NO  \\\n",
      "0     00:45:00Z  MARSHVILLE  North Carolina  ...             NK   \n",
      "1     TAVERNIER         NaN         Florida  ...            NaN   \n",
      "2       TRENTON         NaN      New Jersey  ...            NaN   \n",
      "3     ASHEVILLE         NaN  North Carolina  ...            NaN   \n",
      "4     TALKEETNA         NaN          Alaska  ...              1   \n",
      "\n",
      "  CBN_CRW_INJ_MIN CBN_CRW_INJ_SERIO CBN_CRW_INJ_FAT CBN_CRW_INJ_U PAX_INJ_N  \\\n",
      "0              NE                OR              US            AL        NK   \n",
      "1             NaN               NaN             NaN           NaN       NaN   \n",
      "2             NaN               NaN             NaN           NaN       NaN   \n",
      "3             NaN               NaN             NaN           NaN       NaN   \n",
      "4             NaN               NaN             NaN           NaN       NaN   \n",
      "\n",
      "  PAX_INJ_MIN PAX_INJ_SERIO PAX_INJ_FA Unnamed: 46  \n",
      "0         ONE            OR         US         TAL  \n",
      "1         NaN           NaN        NaN         NaN  \n",
      "2         NaN           NaN        NaN         NaN  \n",
      "3         NaN           NaN        NaN         NaN  \n",
      "4         NaN           NaN        NaN         NaN  \n",
      "\n",
      "[5 rows x 47 columns]\n",
      "\n",
      "Initial DataFrame info:\n",
      "<class 'pandas.core.frame.DataFrame'>\n",
      "RangeIndex: 87 entries, 0 to 86\n",
      "Data columns (total 47 columns):\n",
      " #   Column             Non-Null Count  Dtype  \n",
      "---  ------             --------------  -----  \n",
      " 0   UPDA               85 non-null     object \n",
      " 1   Unnamed: 1         85 non-null     object \n",
      " 2   ENTRY_D            3 non-null      object \n",
      " 3   EVENT_LCL_DA       3 non-null      object \n",
      " 4   Unnamed: 4         85 non-null     object \n",
      " 5   Unnamed: 5         4 non-null      object \n",
      " 6   EVENT_LCL_TI       83 non-null     object \n",
      " 7   LOC_CITY_NAME      83 non-null     object \n",
      " 8   Unnamed: 8         4 non-null      object \n",
      " 9   LOC_STATE_NA       83 non-null     object \n",
      " 10  LOC_CNTRY_NA       3 non-null      object \n",
      " 11  RMK_TEXT           83 non-null     object \n",
      " 12  Unnamed: 12        4 non-null      object \n",
      " 13  EVENT_TYPE_DE      83 non-null     object \n",
      " 14  FSDO_DESC          81 non-null     object \n",
      " 15  Unnamed: 15        5 non-null      object \n",
      " 16  REGIST_            83 non-null     object \n",
      " 17  FLT_N              13 non-null     object \n",
      " 18  ACFT_OPRTR         78 non-null     object \n",
      " 19  ACFT_MAKE_NAME     72 non-null     object \n",
      " 20  ACFT_MODEL_NA      16 non-null     object \n",
      " 21  ACFT_MISSING_FL    1 non-null      float64\n",
      " 22  Unnamed: 22        1 non-null      object \n",
      " 23  ACFT_DMG_DE        74 non-null     object \n",
      " 24  FLT_ACTIV          20 non-null     object \n",
      " 25  FLT_PHASE          83 non-null     object \n",
      " 26  FAR_P              25 non-null     object \n",
      " 27  Unnamed: 27        2 non-null      object \n",
      " 28  MAX_INJ_           19 non-null     object \n",
      " 29  Unnamed: 29        1 non-null      object \n",
      " 30  FATAL_FL           8 non-null      object \n",
      " 31  FLT_CRW_INJ_NO     65 non-null     object \n",
      " 32  FLT_CRW_INJ_MIN    7 non-null      object \n",
      " 33  FLT_CRW_INJ_SERIO  2 non-null      object \n",
      " 34  FLT_CRW_INJ_FA     1 non-null      object \n",
      " 35  Unnamed: 35        8 non-null      object \n",
      " 36  FLT_CRW_INJ_U      1 non-null      float64\n",
      " 37  CBN_CRW_INJ_NO     22 non-null     object \n",
      " 38  CBN_CRW_INJ_MIN    3 non-null      object \n",
      " 39  CBN_CRW_INJ_SERIO  1 non-null      object \n",
      " 40  CBN_CRW_INJ_FAT    1 non-null      object \n",
      " 41  CBN_CRW_INJ_U      1 non-null      object \n",
      " 42  PAX_INJ_N          1 non-null      object \n",
      " 43  PAX_INJ_MIN        1 non-null      object \n",
      " 44  PAX_INJ_SERIO      1 non-null      object \n",
      " 45  PAX_INJ_FA         1 non-null      object \n",
      " 46  Unnamed: 46        1 non-null      object \n",
      "dtypes: float64(2), object(45)\n",
      "memory usage: 32.1+ KB\n",
      "None\n"
     ]
    }
   ],
   "source": [
    "print(\"Initial DataFrame head:\")\n",
    "print(df.head())\n",
    "print(\"\\nInitial DataFrame info:\")\n",
    "print(df.info())"
   ]
  },
  {
   "cell_type": "code",
   "execution_count": 12,
   "id": "71418cf9-f204-48d2-a9ad-536e8202962d",
   "metadata": {},
   "outputs": [],
   "source": [
    "df['EVENT_LCL_TI'] = df['EVENT_LCL_TI'].str.replace('Z', '', regex=False)"
   ]
  },
  {
   "cell_type": "code",
   "execution_count": 14,
   "id": "747a81b2-dd2c-4fc4-abab-f84b5b00fe37",
   "metadata": {},
   "outputs": [],
   "source": [
    "df['DATETIME'] = pd.to_datetime(df['EVENT_LCL_DA'] + ' ' + df['EVENT_LCL_TI'], format='%d-%b-%y %H:%M:%S', errors='coerce')"
   ]
  },
  {
   "cell_type": "code",
   "execution_count": 16,
   "id": "00089c49-efa7-4643-a9f6-87cc6a2b68d0",
   "metadata": {},
   "outputs": [],
   "source": [
    "required_cols = [\n",
    "    'ACFT_MAKE_NAME', 'LOC_STATE_NA', 'ACFT_MODEL_NA', 'RMK_TEXT',\n",
    "    'FLT_PHASE', 'EVENT_TYPE_DE', 'FATAL_FL', 'ACFT_DMG_DE'\n",
    "]\n",
    "# Create a new DataFrame containing only these columns. Using .copy() prevents SettingWithCopyWarning.\n",
    "df_clean = df[required_cols].copy()\n",
    "# Add the newly created 'DATETIME' column to the clean DataFrame.\n",
    "df_clean['DATETIME'] = df['DATETIME']\n"
   ]
  },
  {
   "cell_type": "code",
   "execution_count": 18,
   "id": "f181d9b2-e66f-4af0-8e56-1fc95e0424af",
   "metadata": {},
   "outputs": [],
   "source": [
    "# Replace all Fatal Flag missing values with \"No\"\n",
    "# Explicitly reassign the column to avoid the FutureWarning.\n",
    "df_clean['FATAL_FL'] = df_clean['FATAL_FL'].fillna('No')"
   ]
  },
  {
   "cell_type": "code",
   "execution_count": 20,
   "id": "4272bcab-acea-4449-98da-44064edbd01c",
   "metadata": {},
   "outputs": [],
   "source": [
    "mode_flt_phase = df_clean['FLT_PHASE'].mode()\n",
    "if not mode_flt_phase.empty: # Check if mode was found (i.e., column isn't all NaN)\n",
    "    # Explicitly reassign the column to avoid the FutureWarning.\n",
    "    df_clean['FLT_PHASE'] = df_clean['FLT_PHASE'].fillna(mode_flt_phase[0])"
   ]
  },
  {
   "cell_type": "code",
   "execution_count": 22,
   "id": "ab90d735-fb0d-4621-b5a0-153c7841bfab",
   "metadata": {},
   "outputs": [],
   "source": [
    "# Calculate the mode for 'ACFT_DMG_DE'.\n",
    "mode_acft_dmg_de = df_clean['ACFT_DMG_DE'].mode()\n",
    "if not mode_acft_dmg_de.empty: # Check if mode was found\n",
    "    # Explicitly reassign the column to avoid the FutureWarning.\n",
    "    df_clean['ACFT_DMG_DE'] = df_clean['ACFT_DMG_DE'].fillna(mode_acft_dmg_de[0])"
   ]
  },
  {
   "cell_type": "code",
   "execution_count": 24,
   "id": "ff99adf0-f4cf-43c5-99e3-d0f52e86bffe",
   "metadata": {},
   "outputs": [
    {
     "name": "stdout",
     "output_type": "stream",
     "text": [
      "\n",
      "Missing values after filling:\n",
      "ACFT_MAKE_NAME    15\n",
      "LOC_STATE_NA       4\n",
      "ACFT_MODEL_NA     71\n",
      "RMK_TEXT           4\n",
      "FLT_PHASE          0\n",
      "EVENT_TYPE_DE      4\n",
      "FATAL_FL           0\n",
      "ACFT_DMG_DE        0\n",
      "DATETIME          87\n",
      "dtype: int64\n"
     ]
    }
   ],
   "source": [
    "print(\"\\nMissing values after filling:\")\n",
    "print(df_clean.isnull().sum())"
   ]
  },
  {
   "cell_type": "code",
   "execution_count": 26,
   "id": "ea0b516d-972c-4c27-a0fe-6de033563baa",
   "metadata": {},
   "outputs": [
    {
     "name": "stdout",
     "output_type": "stream",
     "text": [
      "\n",
      "Original number of observations before final dropping: 87\n"
     ]
    }
   ],
   "source": [
    "# --- Check the number of observations before dropping ---\n",
    "original_obs_count = len(df_clean)\n",
    "print(f\"\\nOriginal number of observations before final dropping: {original_obs_count}\")\n"
   ]
  },
  {
   "cell_type": "code",
   "execution_count": 28,
   "id": "732d074f-9c60-45b7-b4f1-a4dea13710bf",
   "metadata": {},
   "outputs": [],
   "source": [
    "# Remove all observations where aircraft names ('ACFT_MAKE_NAME') are not available.\n",
    "# dropna(subset=...) removes rows where NaNs appear only in specified columns.\n",
    "df_clean.dropna(subset=['ACFT_MAKE_NAME'], inplace=True)"
   ]
  },
  {
   "cell_type": "code",
   "execution_count": 30,
   "id": "289b3f6b-0ea9-4d6a-937e-c68b52f943f5",
   "metadata": {},
   "outputs": [],
   "source": [
    "# Drop all columns that have more than 75 non-null values.\n",
    "# First, count the non-null values for each column in the current (cleaned) DataFrame.\n",
    "non_null_counts = df_clean.count()\n",
    "# Identify columns where the non-null count is strictly greater than 75.\n",
    "cols_to_drop = non_null_counts[non_null_counts > 75].index.tolist()\n",
    "# Drop these identified columns. errors='ignore' prevents error if a column is not found.\n",
    "df_clean.drop(columns=cols_to_drop, inplace=True, errors='ignore')"
   ]
  },
  {
   "cell_type": "code",
   "execution_count": 32,
   "id": "90ef61a1-d52b-48d5-81bd-38e031c20dcc",
   "metadata": {},
   "outputs": [
    {
     "name": "stdout",
     "output_type": "stream",
     "text": [
      "\n",
      "Number of observations after dropping rows and columns: 72\n",
      "Number of observations dropped from the initial clean DataFrame: 15\n"
     ]
    }
   ],
   "source": [
    "# --- Check the number of observations now to compare it with the original dataset ---\n",
    "final_obs_count = len(df_clean)\n",
    "print(f\"\\nNumber of observations after dropping rows and columns: {final_obs_count}\")\n",
    "print(f\"Number of observations dropped from the initial clean DataFrame: {original_obs_count - final_obs_count}\")"
   ]
  },
  {
   "cell_type": "code",
   "execution_count": 34,
   "id": "a61f0960-086c-4fb3-a926-ec1b082ee1eb",
   "metadata": {},
   "outputs": [
    {
     "name": "stdout",
     "output_type": "stream",
     "text": [
      "\n",
      "Number of times each aircraft type appears in the dataset:\n",
      "ACFT_MAKE_NAME\n",
      "172              4\n",
      "210              4\n",
      "150              3\n",
      "206              3\n",
      "BOEING           3\n",
      "PA34             3\n",
      "PA28             3\n",
      "8KCAB            2\n",
      "PA24             2\n",
      "182              2\n",
      "310              2\n",
      "152              2\n",
      "M20K             2\n",
      "GULFSTREAM200    1\n",
      "TB21             1\n",
      "AIRBUS           1\n",
      "AA1              1\n",
      "KITFOX           1\n",
      "47G              1\n",
      "CTLS             1\n",
      "BEECH            1\n",
      "175              1\n",
      "PA31             1\n",
      "IV               1\n",
      "RX8              1\n",
      "500              1\n",
      "M20E             1\n",
      "NA265            1\n",
      "AERONCA          1\n",
      "INTERNATIONAL    1\n",
      "EMBRAER          1\n",
      "140              1\n",
      "2T1A             1\n",
      "235              1\n",
      "FIREFLY          1\n",
      "T34              1\n",
      "EAGLE II         1\n",
      "369              1\n",
      "GC1B             1\n",
      "PA20             1\n",
      "560              1\n",
      "S2               1\n",
      "BT15             1\n",
      "PT19             1\n",
      "TB9              1\n",
      "SAAB             1\n",
      "RV7              1\n",
      "M4               1\n",
      "M20M             1\n",
      "F51              1\n",
      "Name: count, dtype: int64\n"
     ]
    }
   ],
   "source": [
    "if 'ACFT_MAKE_NAME' in df_clean.columns:\n",
    "    aircraft_counts = df_clean['ACFT_MAKE_NAME'].value_counts()\n",
    "    print(\"\\nNumber of times each aircraft type appears in the dataset:\")\n",
    "    print(aircraft_counts)\n",
    "else:\n",
    "    print(\"\\n'ACFT_MAKE_NAME' column was dropped due to the specified rule. Cannot group by aircraft type.\")\n"
   ]
  },
  {
   "cell_type": "code",
   "execution_count": 36,
   "id": "043625c1-a367-4b0f-a501-11143ea6bb90",
   "metadata": {},
   "outputs": [
    {
     "name": "stdout",
     "output_type": "stream",
     "text": [
      "\n",
      "Observations where the fatal flag is 'Yes':\n",
      "   ACFT_MAKE_NAME    LOC_STATE_NA ACFT_MODEL_NA  \\\n",
      "0           BEECH  North Carolina            ME   \n",
      "53           PA28         Florida           NaN   \n",
      "55           CTLS      California           NaN   \n",
      "79            F51         Arizona           NaN   \n",
      "80          8KCAB      California           NaN   \n",
      "82            182         Alabama           NaN   \n",
      "\n",
      "                                             RMK_TEXT FLT_PHASE EVENT_TYPE_DE  \\\n",
      "0                                                  ME       ITY      Accident   \n",
      "53  AIRCRAFT CRASHED UNDER UNKNOWN CIRCUMSTANCES. ...   UNKNOWN      Accident   \n",
      "55  AIRCRAFT CRASHED UNDER UNKNOWN CIRCUMSTANCES A...   UNKNOWN      Accident   \n",
      "79  AIRCRAFT CRASHED UNDER UNKNOWN CIRCUMSTANCES, ...   UNKNOWN      Accident   \n",
      "80  N9872R, BEECH M35 AIRCRAFT, AND N5057G, BELLAN...   UNKNOWN      Accident   \n",
      "82  N784CP AIRCRAFT CRASHED INTO A WOODED AREA NEA...   UNKNOWN      Accident   \n",
      "\n",
      "   FATAL_FL ACFT_DMG_DE DATETIME  \n",
      "0       Yes     Unknown      NaT  \n",
      "53      Yes   Destroyed      NaT  \n",
      "55      Yes   Destroyed      NaT  \n",
      "79      Yes   Destroyed      NaT  \n",
      "80      Yes   Destroyed      NaT  \n",
      "82      Yes     Unknown      NaT  \n"
     ]
    }
   ],
   "source": [
    "# --- Display the observations where fatal flag is “Yes” ---\n",
    "if 'FATAL_FL' in df_clean.columns:\n",
    "    fatal_incidents = df_clean[df_clean['FATAL_FL'] == 'Yes']\n",
    "    print(\"\\nObservations where the fatal flag is 'Yes':\")\n",
    "    print(fatal_incidents)\n",
    "else:\n",
    "    print(\"\\n'FATAL_FL' column was dropped due to the specified rule. Cannot filter fatal incidents.\")\n"
   ]
  },
  {
   "cell_type": "code",
   "execution_count": 38,
   "id": "bd4fa9ec-9315-484a-9017-74a623fe35d5",
   "metadata": {},
   "outputs": [
    {
     "name": "stdout",
     "output_type": "stream",
     "text": [
      "\n",
      "Final DataFrame head after one-hot encoding:\n",
      "  ACFT_MAKE_NAME    LOC_STATE_NA ACFT_MODEL_NA  \\\n",
      "0          BEECH  North Carolina            ME   \n",
      "1            RV7         Florida           NaN   \n",
      "2            172      New Jersey           NaN   \n",
      "3            235  North Carolina           NaN   \n",
      "4            172          Alaska           NaN   \n",
      "\n",
      "                                            RMK_TEXT      FLT_PHASE  \\\n",
      "0                                                 ME            ITY   \n",
      "1  AIRCRAFT ON LANDING WENT OFF THE END OF THE RU...  LANDING (LDG)   \n",
      "2  AIRCRAFT ON FINAL SUSTAINED A BIRD STRIKE, LAN...       APPROACH   \n",
      "3  AIRCRAFT ON LANDING, GEAR COLLAPSED, ASHEVILLE...  LANDING (LDG)   \n",
      "4  AIRCRAFT ON LANDING, NOSE GEAR COLLAPSED, TALK...  LANDING (LDG)   \n",
      "\n",
      "  EVENT_TYPE_DE FATAL_FL DATETIME  ACFT_DMG_DE_Destroyed  ACFT_DMG_DE_Minor  \\\n",
      "0      Accident      Yes      NaT                  False              False   \n",
      "1      Incident       No      NaT                  False              False   \n",
      "2      Incident       No      NaT                  False               True   \n",
      "3      Incident       No      NaT                  False              False   \n",
      "4      Incident       No      NaT                  False               True   \n",
      "\n",
      "   ACFT_DMG_DE_Substantial  \n",
      "0                    False  \n",
      "1                    False  \n",
      "2                    False  \n",
      "3                    False  \n",
      "4                    False  \n",
      "\n",
      "Final DataFrame info after one-hot encoding:\n",
      "<class 'pandas.core.frame.DataFrame'>\n",
      "Index: 72 entries, 0 to 82\n",
      "Data columns (total 11 columns):\n",
      " #   Column                   Non-Null Count  Dtype         \n",
      "---  ------                   --------------  -----         \n",
      " 0   ACFT_MAKE_NAME           72 non-null     object        \n",
      " 1   LOC_STATE_NA             72 non-null     object        \n",
      " 2   ACFT_MODEL_NA            9 non-null      object        \n",
      " 3   RMK_TEXT                 72 non-null     object        \n",
      " 4   FLT_PHASE                72 non-null     object        \n",
      " 5   EVENT_TYPE_DE            72 non-null     object        \n",
      " 6   FATAL_FL                 72 non-null     object        \n",
      " 7   DATETIME                 0 non-null      datetime64[ns]\n",
      " 8   ACFT_DMG_DE_Destroyed    72 non-null     bool          \n",
      " 9   ACFT_DMG_DE_Minor        72 non-null     bool          \n",
      " 10  ACFT_DMG_DE_Substantial  72 non-null     bool          \n",
      "dtypes: bool(3), datetime64[ns](1), object(7)\n",
      "memory usage: 5.3+ KB\n",
      "None\n",
      "\n",
      "Processed data has been saved to 'processed_aviation_data.csv'\n"
     ]
    }
   ],
   "source": [
    "\n",
    "# --- One-hot encoding on the ACFT_DMG_DE column ---\n",
    "# This is done without using the sklearn library, using pandas' get_dummies.\n",
    "if 'ACFT_DMG_DE' in df_clean.columns:\n",
    "    # pd.get_dummies converts categorical variables into dummy/indicator variables.\n",
    "    one_hot_encoded = pd.get_dummies(df_clean['ACFT_DMG_DE'], prefix='ACFT_DMG_DE')\n",
    "    \n",
    "    # Drop one of the resulting columns to avoid multicollinearity (the \"dummy variable trap\").\n",
    "    # This means if you have N categories, you only need N-1 binary columns.\n",
    "    if not one_hot_encoded.empty and len(one_hot_encoded.columns) > 1: # Ensure there's more than one column to drop\n",
    "        one_hot_encoded.drop(columns=one_hot_encoded.columns[-1], inplace=True)\n",
    "    \n",
    "    # Concatenate the new one-hot encoded columns to the main dataframe.\n",
    "    # First, drop the original 'ACFT_DMG_DE' column to avoid redundancy.\n",
    "    df_final = pd.concat([df_clean.drop('ACFT_DMG_DE', axis=1), one_hot_encoded], axis=1)\n",
    "\n",
    "    print(\"\\nFinal DataFrame head after one-hot encoding:\")\n",
    "    print(df_final.head())\n",
    "    print(\"\\nFinal DataFrame info after one-hot encoding:\")\n",
    "    print(df_final.info())\n",
    "    \n",
    "    # Save the final processed dataframe to a CSV file.\n",
    "    df_final.to_csv('processed_aviation_data.csv', index=False)\n",
    "    print(\"\\nProcessed data has been saved to 'processed_aviation_data.csv'\")\n",
    "else:\n",
    "    print(\"\\n'ACFT_DMG_DE' column was dropped due to the specified rule. Cannot perform one-hot encoding.\")"
   ]
  },
  {
   "cell_type": "code",
   "execution_count": null,
   "id": "e145bb71-e484-45fb-a6a4-a39650c402e8",
   "metadata": {},
   "outputs": [],
   "source": []
  }
 ],
 "metadata": {
  "kernelspec": {
   "display_name": "Python [conda env:base] *",
   "language": "python",
   "name": "conda-base-py"
  },
  "language_info": {
   "codemirror_mode": {
    "name": "ipython",
    "version": 3
   },
   "file_extension": ".py",
   "mimetype": "text/x-python",
   "name": "python",
   "nbconvert_exporter": "python",
   "pygments_lexer": "ipython3",
   "version": "3.12.7"
  }
 },
 "nbformat": 4,
 "nbformat_minor": 5
}
